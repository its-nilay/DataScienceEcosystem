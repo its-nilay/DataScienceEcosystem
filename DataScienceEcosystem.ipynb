{
 "cells": [
  {
   "cell_type": "markdown",
   "id": "dadb0dba-b484-40d6-9a52-42241f983ba0",
   "metadata": {},
   "source": [
    "# Data Science Tools and Ecosystem"
   ]
  },
  {
   "cell_type": "markdown",
   "id": "14246e42-c69c-45b2-a270-69ace92f892b",
   "metadata": {},
   "source": [
    "In this notebook, Data Science Tools and Ecosystem are summarized."
   ]
  },
  {
   "cell_type": "markdown",
   "id": "714103c4-2f20-47a3-abe7-4d1f19f08fbb",
   "metadata": {},
   "source": [
    "**Objectives:**"
   ]
  },
  {
   "cell_type": "markdown",
   "id": "86b196b8-5ec4-4264-8cf4-54b561cc8286",
   "metadata": {},
   "source": [
    "List popular languages for Data Science"
   ]
  },
  {
   "cell_type": "markdown",
   "id": "7680e1e7-2604-48d3-83ea-e3265670657d",
   "metadata": {},
   "source": [
    "* Python\n",
    "* R\n",
    "* SQL\n",
    "* Julia\n",
    "* Java\n",
    "* Scala\n",
    "* C/C++"
   ]
  },
  {
   "cell_type": "markdown",
   "id": "adac0220-6d73-428d-bdb1-63e31811467b",
   "metadata": {},
   "source": [
    "Some of the popular languages that Data Scientists use are:"
   ]
  },
  {
   "cell_type": "markdown",
   "id": "85b1b695-c080-4ad7-8553-787ab5f91d92",
   "metadata": {},
   "source": [
    "1. Python\n",
    "2. R\n",
    "3. SQL\n",
    "4. Julia"
   ]
  },
  {
   "cell_type": "markdown",
   "id": "fdbc8493-431f-41ca-8fd5-80a6040b5e9a",
   "metadata": {},
   "source": [
    "Some of the commonly used libraries used by Data Scientists include:"
   ]
  },
  {
   "cell_type": "markdown",
   "id": "5c44a185-de42-4e2e-8c46-36a98da07eca",
   "metadata": {},
   "source": [
    "1. NumPy\n",
    "2. Pandas\n",
    "3. Matplotlib\n",
    "4. Scikit-learn"
   ]
  },
  {
   "attachments": {},
   "cell_type": "markdown",
   "id": "1cc4793f-1a45-4e33-aa60-8047f2290121",
   "metadata": {
    "jp-MarkdownHeadingCollapsed": true
   },
   "source": [
    "Data Science Tools"
   ]
  },
  {
   "cell_type": "markdown",
   "id": "54aeb018-6d83-4016-9ae7-0379d6f65a8a",
   "metadata": {},
   "source": [
    "| Data Science Tools       |\n",
    "|--------------------------|\n",
    "| Jupyter Notebook          |\n",
    "| RStudio                   |\n",
    "| Visual Studio Code           |"
   ]
  },
  {
   "cell_type": "markdown",
   "id": "050798ae-82ce-4105-b729-cddf1ca834a6",
   "metadata": {},
   "source": [
    "### Below are a few examples of evaluating arithmetic expressions in Python"
   ]
  },
  {
   "cell_type": "code",
   "execution_count": 1,
   "id": "4cc44bee-cbe0-42d9-983e-4f71340bb209",
   "metadata": {},
   "outputs": [
    {
     "data": {
      "text/plain": [
       "17"
      ]
     },
     "execution_count": 1,
     "metadata": {},
     "output_type": "execute_result"
    }
   ],
   "source": [
    "# This a simple arithmetic expression to mutiply then add integers\n",
    "\n",
    "(3*4)+5"
   ]
  },
  {
   "cell_type": "code",
   "execution_count": 2,
   "id": "dda829b7-76c1-46ef-a826-db0d1cfad221",
   "metadata": {},
   "outputs": [
    {
     "data": {
      "text/plain": [
       "3.3333333333333335"
      ]
     },
     "execution_count": 2,
     "metadata": {},
     "output_type": "execute_result"
    }
   ],
   "source": [
    "# This will convert 200 minutes to hours by diving by 60\n",
    "\n",
    "200/60"
   ]
  },
  {
   "cell_type": "markdown",
   "id": "6de4950c-d4a2-4469-ab16-932f2023ab6d",
   "metadata": {},
   "source": [
    "## Author"
   ]
  },
  {
   "cell_type": "markdown",
   "id": "a4ffd815-11d2-4a2f-9a7c-9066e1c8f7af",
   "metadata": {},
   "source": [
    "Nilay Saha"
   ]
  }
 ],
 "metadata": {
  "kernelspec": {
   "display_name": "Python 3 (ipykernel)",
   "language": "python",
   "name": "python3"
  },
  "language_info": {
   "codemirror_mode": {
    "name": "ipython",
    "version": 3
   },
   "file_extension": ".py",
   "mimetype": "text/x-python",
   "name": "python",
   "nbconvert_exporter": "python",
   "pygments_lexer": "ipython3",
   "version": "3.12.5"
  }
 },
 "nbformat": 4,
 "nbformat_minor": 5
}
